{
  "nbformat": 4,
  "nbformat_minor": 0,
  "metadata": {
    "colab": {
      "provenance": []
    },
    "kernelspec": {
      "name": "python3",
      "display_name": "Python 3"
    },
    "language_info": {
      "name": "python"
    }
  },
  "cells": [
    {
      "cell_type": "code",
      "source": [
        "pip install openai"
      ],
      "metadata": {
        "colab": {
          "base_uri": "https://localhost:8080/"
        },
        "id": "pSV3BZNpKmw2",
        "outputId": "1562234e-6234-4f6e-c3b1-49ecf84a4b88"
      },
      "execution_count": null,
      "outputs": [
        {
          "output_type": "stream",
          "name": "stdout",
          "text": [
            "Collecting openai\n",
            "  Downloading openai-1.37.1-py3-none-any.whl.metadata (22 kB)\n",
            "Requirement already satisfied: anyio<5,>=3.5.0 in /usr/local/lib/python3.10/dist-packages (from openai) (3.7.1)\n",
            "Requirement already satisfied: distro<2,>=1.7.0 in /usr/lib/python3/dist-packages (from openai) (1.7.0)\n",
            "Collecting httpx<1,>=0.23.0 (from openai)\n",
            "  Downloading httpx-0.27.0-py3-none-any.whl.metadata (7.2 kB)\n",
            "Requirement already satisfied: pydantic<3,>=1.9.0 in /usr/local/lib/python3.10/dist-packages (from openai) (2.8.2)\n",
            "Requirement already satisfied: sniffio in /usr/local/lib/python3.10/dist-packages (from openai) (1.3.1)\n",
            "Requirement already satisfied: tqdm>4 in /usr/local/lib/python3.10/dist-packages (from openai) (4.66.4)\n",
            "Requirement already satisfied: typing-extensions<5,>=4.7 in /usr/local/lib/python3.10/dist-packages (from openai) (4.12.2)\n",
            "Requirement already satisfied: idna>=2.8 in /usr/local/lib/python3.10/dist-packages (from anyio<5,>=3.5.0->openai) (3.7)\n",
            "Requirement already satisfied: exceptiongroup in /usr/local/lib/python3.10/dist-packages (from anyio<5,>=3.5.0->openai) (1.2.2)\n",
            "Requirement already satisfied: certifi in /usr/local/lib/python3.10/dist-packages (from httpx<1,>=0.23.0->openai) (2024.7.4)\n",
            "Collecting httpcore==1.* (from httpx<1,>=0.23.0->openai)\n",
            "  Downloading httpcore-1.0.5-py3-none-any.whl.metadata (20 kB)\n",
            "Collecting h11<0.15,>=0.13 (from httpcore==1.*->httpx<1,>=0.23.0->openai)\n",
            "  Downloading h11-0.14.0-py3-none-any.whl.metadata (8.2 kB)\n",
            "Requirement already satisfied: annotated-types>=0.4.0 in /usr/local/lib/python3.10/dist-packages (from pydantic<3,>=1.9.0->openai) (0.7.0)\n",
            "Requirement already satisfied: pydantic-core==2.20.1 in /usr/local/lib/python3.10/dist-packages (from pydantic<3,>=1.9.0->openai) (2.20.1)\n",
            "Downloading openai-1.37.1-py3-none-any.whl (337 kB)\n",
            "\u001b[2K   \u001b[90m━━━━━━━━━━━━━━━━━━━━━━━━━━━━━━━━━━━━━━━━\u001b[0m \u001b[32m337.0/337.0 kB\u001b[0m \u001b[31m6.9 MB/s\u001b[0m eta \u001b[36m0:00:00\u001b[0m\n",
            "\u001b[?25hDownloading httpx-0.27.0-py3-none-any.whl (75 kB)\n",
            "\u001b[2K   \u001b[90m━━━━━━━━━━━━━━━━━━━━━━━━━━━━━━━━━━━━━━━━\u001b[0m \u001b[32m75.6/75.6 kB\u001b[0m \u001b[31m4.4 MB/s\u001b[0m eta \u001b[36m0:00:00\u001b[0m\n",
            "\u001b[?25hDownloading httpcore-1.0.5-py3-none-any.whl (77 kB)\n",
            "\u001b[2K   \u001b[90m━━━━━━━━━━━━━━━━━━━━━━━━━━━━━━━━━━━━━━━━\u001b[0m \u001b[32m77.9/77.9 kB\u001b[0m \u001b[31m4.8 MB/s\u001b[0m eta \u001b[36m0:00:00\u001b[0m\n",
            "\u001b[?25hDownloading h11-0.14.0-py3-none-any.whl (58 kB)\n",
            "\u001b[2K   \u001b[90m━━━━━━━━━━━━━━━━━━━━━━━━━━━━━━━━━━━━━━━━\u001b[0m \u001b[32m58.3/58.3 kB\u001b[0m \u001b[31m3.7 MB/s\u001b[0m eta \u001b[36m0:00:00\u001b[0m\n",
            "\u001b[?25hInstalling collected packages: h11, httpcore, httpx, openai\n",
            "Successfully installed h11-0.14.0 httpcore-1.0.5 httpx-0.27.0 openai-1.37.1\n"
          ]
        }
      ]
    },
    {
      "cell_type": "code",
      "source": [
        "import os\n",
        "from openai import OpenAI\n",
        "\n",
        "client = OpenAI(api_key=\"sk-\")"
      ],
      "metadata": {
        "id": "ZobituM7KmjU"
      },
      "execution_count": null,
      "outputs": []
    },
    {
      "cell_type": "code",
      "source": [
        "default_system_message = \"당신은 사용자의 질문에 답을 충실히 찾아내는 유능한 비서입니다.\"\n",
        "def get_chatgpt_response(system_message = default_system_message, user_message = \"\", template=0.8):\n",
        "    messages = [\n",
        "        {\"role\": \"system\", \"content\": system_message},\n",
        "        {\"role\": \"user\", \"content\": user_message}\n",
        "    ]\n",
        "    response = client.chat.completions.create(\n",
        "        model=\"gpt-4o-mini\",\n",
        "        max_tokens=16384,\n",
        "        n=1,\n",
        "        stream=False,\n",
        "        temperature=template,\n",
        "        messages = messages\n",
        "    ),\n",
        "\n",
        "    return response[0].choices[0].message.content"
      ],
      "metadata": {
        "id": "1WTJsC_tKpPL"
      },
      "execution_count": null,
      "outputs": []
    },
    {
      "cell_type": "markdown",
      "source": [
        "# Few shot engineering"
      ],
      "metadata": {
        "id": "qr9cWzt2Kh8p"
      }
    },
    {
      "cell_type": "markdown",
      "source": [
        "### 영어를 한국어 번역하는 5-shot prompt 를 작성하고 \"dog\"를 번역해보세요."
      ],
      "metadata": {
        "id": "xfZEA_9_KteA"
      }
    },
    {
      "cell_type": "code",
      "execution_count": null,
      "metadata": {
        "id": "ApRmetLzKL8p"
      },
      "outputs": [],
      "source": [
        "system_message = f\"\"\"\n",
        "Translate the following words to Korean:\n",
        "1. book: 책\n",
        "2. cheese: 치즈\n",
        "3. water: 물\n",
        "4. bread: 빵\n",
        "5. apple: 사과\n",
        "\"\"\"\n",
        "\n",
        "user_message = f\"\"\"\n",
        "Translate the word \"dog\":\n",
        "\"\"\"\n",
        "\n",
        "get_chatgpt_response(system_message = system_message, user_message = user_message)"
      ]
    },
    {
      "cell_type": "markdown",
      "source": [
        "영화 리뷰에 대한 sentiment (positive or negative) 를 결정하는 5-shot prompt 를 작성하고 \"The storyline was dull and uninspiring.\" 에 대한 결과를 확인해보세요."
      ],
      "metadata": {
        "id": "7wD6le9VKxL1"
      }
    },
    {
      "cell_type": "code",
      "source": [
        "system_message = f\"\"\"\n",
        "Determine the sentiment (positive or negative) of the following movie reviews:\n",
        "1. \"The movie was fantastic and had great acting.\": positive\n",
        "2. \"I hated the film; it was a complete waste of time.\": negative\n",
        "3. \"An excellent film that kept me on the edge of my seat.\": positive\n",
        "4. \"Terrible plot and horrible acting.\": negative\n",
        "5. \"A wonderful experience with stunning visuals.\": positive\n",
        "\"\"\"\n",
        "\n",
        "user_message = f\"\"\"\n",
        "Review: \"The storyline was dull and uninspiring.\"\n",
        "Sentiment:\n",
        "\"\"\"\n",
        "\n",
        "get_chatgpt_response(system_message = system_message, user_message = user_message)"
      ],
      "metadata": {
        "id": "1evbOl2PKynl"
      },
      "execution_count": null,
      "outputs": []
    },
    {
      "cell_type": "markdown",
      "source": [
        "자연어를 SQL 쿼리로 바꿔주는 few-shot prompt 를 작성해보세요."
      ],
      "metadata": {
        "id": "aw3wOWPFK0iW"
      }
    },
    {
      "cell_type": "code",
      "source": [
        "system_message = f\"\"\"\n",
        "Convert the following natural language requests into SQL queries:\n",
        "1. \"Show all employees with a salary greater than $50,000.\": SELECT * FROM employees WHERE salary > 50000;\n",
        "2. \"List all products that are out of stock.\": SELECT * FROM products WHERE stock = 0;\n",
        "3. \"Find the names of students who scored above 90 in math.\": SELECT name FROM students WHERE math_score > 90;\n",
        "4. \"Retrieve the details of orders placed in the last 30 days.\": SELECT * FROM orders WHERE order_date >= DATE_SUB(CURDATE(), INTERVAL 30 DAY);\n",
        "5. \"Get the count of customers from each city.\": SELECT city, COUNT(*) FROM customers GROUP BY city;\n",
        "\"\"\"\n",
        "\n",
        "user_message = f\"\"\"\n",
        "Request: \"Find the average salary of employees in the marketing department.\"\n",
        "SQL Query:\n",
        "\"\"\"\n",
        "\n",
        "get_chatgpt_response(system_message = system_message, user_message = user_message)"
      ],
      "metadata": {
        "id": "ANiF_pH7K2Pn"
      },
      "execution_count": null,
      "outputs": []
    },
    {
      "cell_type": "markdown",
      "source": [
        "\n",
        "\n",
        "---\n",
        "\n"
      ],
      "metadata": {
        "id": "zO30qL9gKjpo"
      }
    },
    {
      "cell_type": "markdown",
      "source": [
        "# Chain of Thought"
      ],
      "metadata": {
        "id": "WxsMoPkTKkGa"
      }
    },
    {
      "cell_type": "markdown",
      "source": [
        "### 다음 문제를 푸는 Chain of thought prompt 를 작성해보세요.\n",
        "\n",
        "Solve the following problem step-by-step: 23 + 47\n",
        "\n",
        "Step-by-step solution:\n",
        "\n",
        "1. Break down the numbers: 23 and 47\n",
        "2. Add the tens place: 20 + 40 = 60\n",
        "3. Add the ones place: 3 + 7 = 10\n",
        "4. Combine the results: 60 + 10 = 70\n",
        "\n",
        "Answer: 70"
      ],
      "metadata": {
        "id": "aAkJBEo8LBad"
      }
    },
    {
      "cell_type": "code",
      "source": [
        "system_message = f\"\"\"\n",
        "Solve the following arithmetic problem step-by-step using the Chain of Thought (CoT) technique:\n",
        "\n",
        "Problem: 23 + 47\n",
        "\n",
        "Step-by-step solution:\n",
        "\n",
        "Break down the numbers: 23 and 47.\n",
        "Add the tens place: 20 + 40 = 60.\n",
        "Add the ones place: 3 + 7 = 10.\n",
        "Combine the results: 60 + 10 = 70.\n",
        "\n",
        "Answer: 70\n",
        "\n",
        "Use this step-by-step method to solve other arithmetic problems provided.\n",
        "\"\"\"\n",
        "\n",
        "user_message = f\"\"\"\n",
        "123 - 58\n",
        "\"\"\"\n",
        "\n",
        "result = get_chatgpt_response(system_message = system_message, user_message = user_message, template=0.2)\n",
        "print(result)"
      ],
      "metadata": {
        "id": "u9YdpfgNK8n9"
      },
      "execution_count": null,
      "outputs": []
    },
    {
      "cell_type": "code",
      "source": [
        "system_message = f\"\"\"\n",
        "Solve the following arithmetic problem step-by-step using the Chain of Thought (CoT) technique:\n",
        "\n",
        "Problem: 23 + 47\n",
        "\n",
        "Step-by-step solution:\n",
        "\n",
        "Break down the numbers: 23 and 47.\n",
        "Add the tens place: 20 + 40 = 60.\n",
        "Add the ones place: 3 + 7 = 10.\n",
        "Combine the results: 60 + 10 = 70.\n",
        "\n",
        "Answer: 70\n",
        "\n",
        "Use this step-by-step method to solve other arithmetic problems provided.\n",
        "\"\"\"\n",
        "\n",
        "user_message = f\"\"\"\n",
        "345 + 678 - 123\n",
        "\"\"\"\n",
        "\n",
        "result = get_chatgpt_response(system_message = system_message, user_message = user_message, template=0.2)\n",
        "print(result)"
      ],
      "metadata": {
        "id": "goX1SR9aK88S"
      },
      "execution_count": null,
      "outputs": []
    },
    {
      "cell_type": "markdown",
      "source": [
        "### 다음 문제를 푸는 Chain of thought prompt 를 작성해보세요.\n",
        "\n",
        "Solve the following logic puzzle step-by-step:\n",
        "Three friends, Alice, Bob, and Carol, have different favorite colors: red, blue, and green. We know that:\n",
        "1. Alice does not like red.\n",
        "2. Bob does not like blue.\n",
        "3. Carol likes green.\n",
        "\n",
        "Determine the favorite color of each friend.\n",
        "\n",
        "Step-by-step solution:\n",
        "1. Analyze the information:\n",
        "   a. Carol likes green (given).\n",
        "   b. Alice does not like red.\n",
        "   c. Bob does not like blue.\n",
        "2. Since Carol likes green, Alice and Bob cannot like green.\n",
        "3. Alice does not like red, so Alice must like blue.\n",
        "4. Bob does not like blue and cannot like green, so Bob must like red.\n",
        "5. Verify:\n",
        "   a. Carol likes green.\n",
        "   b. Alice likes blue.\n",
        "   c. Bob likes red.\n",
        "\n",
        "Answer:\n",
        "- Alice: blue\n",
        "- Bob: red\n",
        "- Carol: green"
      ],
      "metadata": {
        "id": "alkf_s-kLVOp"
      }
    },
    {
      "cell_type": "code",
      "source": [
        "system_message = f\"\"\"\n",
        "**System Instruction:** You are an AI designed to solve logic puzzles using the Chain of Thought method. When given a puzzle, provide a detailed, logical step-by-step explanation for each deduction you make to reach the correct solution. Ensure your reasoning is clear and follows logically from the given information.\n",
        "\n",
        "**Input:**\n",
        "A logic puzzle with specific constraints and clues.\n",
        "\n",
        "**Output:**\n",
        "Provide a step-by-step solution using the Chain of Thought method, explaining the reasoning behind each step, and then summarize the final answer.\n",
        "\n",
        "**Example Format:**\n",
        "\n",
        "**Step-by-step solution:**\n",
        "1. **Analyze the information:** Identify and list all the constraints and clues provided in the puzzle.\n",
        "2. **Initial deductions:** Use the given information to make initial logical deductions.\n",
        "3. **Narrow down possibilities:** Based on the initial deductions, eliminate impossible options for each variable (e.g., favorite color, person).\n",
        "4. **Further deductions:** Make further logical deductions based on the remaining possibilities.\n",
        "5. **Verify consistency:** Ensure that all deductions are consistent with the given constraints and clues.\n",
        "6. **Finalize the solution:** Summarize the final answer, ensuring all parts of the puzzle are addressed.\n",
        "\n",
        "**Instructions for AI:**\n",
        "1. Read and understand the given puzzle.\n",
        "2. Identify and list all the constraints and clues.\n",
        "3. Deduce the solution step-by-step, ensuring each step logically follows from the previous one.\n",
        "4. Eliminate impossibilities and narrow down options logically.\n",
        "5. Verify consistency at each step.\n",
        "6. Summarize the final answer, clearly matching each variable with its determined value.\n",
        "7. Ensure clarity and logical consistency throughout the explanation.\n",
        "\n",
        "\n",
        "**Example:**\n",
        "\n",
        "**Puzzle:**\n",
        "Three friends, Alice, Bob, and Carol, have different favorite colors: red, blue, and green. We know that:\n",
        "1. Alice does not like red.\n",
        "2. Bob does not like blue.\n",
        "3. Carol likes green.\n",
        "Determine the favorite color of each friend.\n",
        "\n",
        "**Step-by-step solution:**\n",
        "1. Analyze the information:\n",
        "Carol likes green (given).\n",
        "Alice does not like red.\n",
        "Bob does not like blue.\n",
        "\n",
        "2. Initial deductions:\n",
        "Since Carol likes green, Alice and Bob cannot like green.\n",
        "\n",
        "3. Narrow down possibilities:\n",
        "Alice has two possible colors left: blue and green. Since green is already taken by Carol, Alice must like blue.\n",
        "Bob has two possible colors left: red and green. Since green is already taken by Carol and Bob does not like blue, Bob must like red.\n",
        "\n",
        "4. Further deductions:\n",
        "All deductions align with the given constraints.\n",
        "\n",
        "5. Verify consistency:\n",
        "Carol likes green.\n",
        "Alice likes blue.\n",
        "Bob likes red.\n",
        "\n",
        "6. Finalize the solution:\n",
        "Alice: blue\n",
        "Bob: red\n",
        "Carol: green\n",
        "\"\"\"\n",
        "\n",
        "user_message = f\"\"\"\n",
        "Solve the following logic puzzle step-by-step: Three friends, Alice, Bob, and Carol, have different favorite colors: red, blue, and green. We know that:\n",
        "\n",
        "Alice does not like red.\n",
        "Bob does not like blue.\n",
        "Carol likes green.\n",
        "Determine the favorite color of each friend.\n",
        "\"\"\"\n",
        "\n",
        "result = get_chatgpt_response(system_message = system_message, user_message = user_message, template=0.2)\n",
        "print(result)"
      ],
      "metadata": {
        "colab": {
          "base_uri": "https://localhost:8080/"
        },
        "id": "Ow16sPLJLa6P",
        "outputId": "72617f34-3b05-4b66-b5bb-43f9c4cf3667"
      },
      "execution_count": null,
      "outputs": [
        {
          "output_type": "stream",
          "name": "stdout",
          "text": [
            "**Step-by-step solution:**\n",
            "\n",
            "1. **Analyze the information:**\n",
            "   - We have three friends: Alice, Bob, and Carol.\n",
            "   - Their favorite colors are red, blue, and green.\n",
            "   - The clues provided are:\n",
            "     - Alice does not like red.\n",
            "     - Bob does not like blue.\n",
            "     - Carol likes green.\n",
            "\n",
            "2. **Initial deductions:**\n",
            "   - From the clue that Carol likes green, we can immediately assign green to Carol. \n",
            "   - This means Alice and Bob cannot like green.\n",
            "\n",
            "3. **Narrow down possibilities:**\n",
            "   - Since Carol likes green, the remaining colors for Alice and Bob are red and blue.\n",
            "   - According to the clue, Alice does not like red. Therefore, the only color left for Alice is blue.\n",
            "   - This leaves Bob with the only remaining color, which is red.\n",
            "\n",
            "4. **Further deductions:**\n",
            "   - We have now assigned:\n",
            "     - Carol: green\n",
            "     - Alice: blue\n",
            "     - Bob: red\n",
            "   - These assignments do not contradict any of the clues provided.\n",
            "\n",
            "5. **Verify consistency:**\n",
            "   - Check each friend against the clues:\n",
            "     - Alice does not like red (true, she likes blue).\n",
            "     - Bob does not like blue (true, he likes red).\n",
            "     - Carol likes green (true, she likes green).\n",
            "   - All clues are satisfied with our assignments.\n",
            "\n",
            "6. **Finalize the solution:**\n",
            "   - The favorite colors of each friend are:\n",
            "     - Alice: blue\n",
            "     - Bob: red\n",
            "     - Carol: green\n",
            "\n",
            "Thus, the final answer is:\n",
            "- Alice: blue\n",
            "- Bob: red\n",
            "- Carol: green\n"
          ]
        }
      ]
    },
    {
      "cell_type": "markdown",
      "source": [
        "### 다음 문제를 푸는 Chain of thought prompt 를 작성해보세요.\n",
        "\n",
        "Solve the following logic puzzle step-by-step:\n",
        "Four people (A, B, C, D) are sitting in a row. We know that:\n",
        "1. A is not next to B.\n",
        "2. B is next to C.\n",
        "3. C is not next to D.\n",
        "\n",
        "Determine the possible seating arrangements.\n",
        "\n",
        "Step-by-step solution:\n",
        "1. Analyze the information:\n",
        "   a. A is not next to B.\n",
        "   b. B is next to C.\n",
        "   c. C is not next to D.\n",
        "2. List possible positions for B and C:\n",
        "   a. B and C must be next to each other.\n",
        "   b. Possible pairs: BC, CB.\n",
        "3. Determine positions for A and D:\n",
        "   a. If B is first (BCA, BCAD), then A cannot be next to B.\n",
        "   b. If C is first (CAB, CABD), then D cannot be next to C.\n",
        "4. Combine information to find valid arrangements:\n",
        "   a. BCAD: B is next to C, A is not next to B, C is not next to D.\n",
        "   b. CABD: B is next to C, A is not next to B, C is not next to D.\n",
        "\n",
        "Answer:\n",
        "- Possible arrangements: BCAD, CABD"
      ],
      "metadata": {
        "id": "zUqdGG4WOmCA"
      }
    },
    {
      "cell_type": "code",
      "source": [
        "system_message = f\"\"\"\n",
        "**System Instruction:** You are an AI designed to solve logic puzzles using the Chain of Thought method. When given a puzzle, provide a detailed, logical step-by-step explanation for each deduction you make to reach the correct solution. Ensure your reasoning is clear and follows logically from the given information.\n",
        "\n",
        "**Input:**\n",
        "A logic puzzle with specific constraints and clues.\n",
        "\n",
        "**Output:**\n",
        "Provide a step-by-step solution using the Chain of Thought method, explaining the reasoning behind each step, and then summarize the final answer.\n",
        "\n",
        "**Example Format:**\n",
        "\n",
        "**Step-by-step solution:**\n",
        "1. **Analyze the information:** Identify and list all the constraints and clues provided in the puzzle.\n",
        "2. **Initial deductions:** Use the given information to make initial logical deductions.\n",
        "3. **Narrow down possibilities:** Based on the initial deductions, eliminate impossible options for each variable (e.g., favorite color, person).\n",
        "4. **Further deductions:** Make further logical deductions based on the remaining possibilities.\n",
        "5. **Verify consistency:** Ensure that all deductions are consistent with the given constraints and clues.\n",
        "6. **Finalize the solution:** Summarize the final answer, ensuring all parts of the puzzle are addressed.\n",
        "\n",
        "**Instructions for AI:**\n",
        "1. Read and understand the given puzzle.\n",
        "2. Identify and list all the constraints and clues.\n",
        "3. Deduce the solution step-by-step, ensuring each step logically follows from the previous one.\n",
        "4. Eliminate impossibilities and narrow down options logically.\n",
        "5. Verify consistency at each step.\n",
        "6. Summarize the final answer, clearly matching each variable with its determined value.\n",
        "7. Ensure clarity and logical consistency throughout the explanation.\n",
        "\n",
        "\n",
        "**Example:**\n",
        "\n",
        "**Puzzle:**\n",
        "Three friends, Alice, Bob, and Carol, have different favorite colors: red, blue, and green. We know that:\n",
        "1. Alice does not like red.\n",
        "2. Bob does not like blue.\n",
        "3. Carol likes green.\n",
        "Determine the favorite color of each friend.\n",
        "\n",
        "**Step-by-step solution:**\n",
        "1. Analyze the information:\n",
        "Carol likes green (given).\n",
        "Alice does not like red.\n",
        "Bob does not like blue.\n",
        "\n",
        "2. Initial deductions:\n",
        "Since Carol likes green, Alice and Bob cannot like green.\n",
        "\n",
        "3. Narrow down possibilities:\n",
        "Alice has two possible colors left: blue and green. Since green is already taken by Carol, Alice must like blue.\n",
        "Bob has two possible colors left: red and green. Since green is already taken by Carol and Bob does not like blue, Bob must like red.\n",
        "\n",
        "4. Further deductions:\n",
        "All deductions align with the given constraints.\n",
        "\n",
        "5. Verify consistency:\n",
        "Carol likes green.\n",
        "Alice likes blue.\n",
        "Bob likes red.\n",
        "\n",
        "6. Finalize the solution:\n",
        "Alice: blue\n",
        "Bob: red\n",
        "Carol: green\n",
        "\"\"\"\n",
        "\n",
        "user_message = f\"\"\"\n",
        "Solve the following logic puzzle step-by-step: Four people (A, B, C, D) are sitting in a row. We know that:\n",
        "\n",
        "A is not next to B.\n",
        "B is next to C.\n",
        "C is not next to D.\n",
        "Determine the possible seating arrangements.\n",
        "\"\"\"\n",
        "\n",
        "result = get_chatgpt_response(system_message = system_message, user_message = user_message, template=0.2)\n",
        "print(result)"
      ],
      "metadata": {
        "colab": {
          "base_uri": "https://localhost:8080/"
        },
        "id": "0CJ_fezqOqjd",
        "outputId": "fb0522e6-eb93-49e1-8078-5d8de830a173"
      },
      "execution_count": null,
      "outputs": [
        {
          "output_type": "stream",
          "name": "stdout",
          "text": [
            "**Step-by-step solution:**\n",
            "\n",
            "1. **Analyze the information:**\n",
            "   - We have four people: A, B, C, and D.\n",
            "   - The constraints are:\n",
            "     1. A is not next to B.\n",
            "     2. B is next to C.\n",
            "     3. C is not next to D.\n",
            "\n",
            "2. **Initial deductions:**\n",
            "   - From the second constraint, since B is next to C, we can represent them as a block (BC) or (CB).\n",
            "   - This means that B and C must occupy adjacent positions in the row.\n",
            "\n",
            "3. **Narrow down possibilities:**\n",
            "   - The possible arrangements for B and C as a block are:\n",
            "     - (B, C)\n",
            "     - (C, B)\n",
            "   - Given that there are four positions, we can place the BC block in the following ways:\n",
            "     1. Positions 1 and 2: (B, C, _, _)\n",
            "     2. Positions 2 and 3: (_, B, C, _)\n",
            "     3. Positions 3 and 4: (_, _, B, C)\n",
            "     4. Positions 1 and 2: (C, B, _, _)\n",
            "     5. Positions 2 and 3: (_, C, B, _)\n",
            "     6. Positions 3 and 4: (_, _, C, B)\n",
            "\n",
            "4. **Further deductions:**\n",
            "   - Now we need to place A and D in the remaining positions while respecting the constraints.\n",
            "   - Let's analyze each arrangement:\n",
            "     - For (B, C):\n",
            "       1. (B, C, A, D) - Valid (A is not next to B)\n",
            "       2. (B, C, D, A) - Invalid (C is next to D)\n",
            "     - For (C, B):\n",
            "       1. (C, B, A, D) - Valid (A is not next to B)\n",
            "       2. (C, B, D, A) - Invalid (C is next to D)\n",
            "\n",
            "5. **Verify consistency:**\n",
            "   - The valid arrangements from the above deductions are:\n",
            "     - (B, C, A, D)\n",
            "     - (C, B, A, D)\n",
            "   - Both arrangements respect all constraints:\n",
            "     - A is not next to B.\n",
            "     - B is next to C.\n",
            "     - C is not next to D.\n",
            "\n",
            "6. **Finalize the solution:**\n",
            "   - The possible seating arrangements are:\n",
            "     1. A: (B, C, A, D)\n",
            "     2. B: (C, B, A, D)\n",
            "\n",
            "Thus, the final answer is:\n",
            "1. (B, C, A, D)\n",
            "2. (C, B, A, D)\n"
          ]
        }
      ]
    },
    {
      "cell_type": "markdown",
      "source": [
        "---"
      ],
      "metadata": {
        "id": "nw7O99nxK-sv"
      }
    }
  ]
}